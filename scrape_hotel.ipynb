{
  "cells": [
    {
      "cell_type": "code",
      "execution_count": 16,
      "metadata": {
        "id": "iOwU3uXJdbsG"
      },
      "outputs": [],
      "source": [
        "# Import Libraries\n",
        "from bs4 import BeautifulSoup\n",
        "import requests\n",
        "import csv\n",
        "import pandas as pd\n",
        "from matplotlib import pyplot as plt\n",
        "from collections import Counter\n",
        "\n",
        "\n",
        "headers = {'User-Agent':'Mozilla/5.0 (Macintosh; Intel Mac OS X 10_11_2) AppleWebKit/601.3.9 (KHTML, like Gecko) Version/9.0.2 Safari/601.3.9'}"
      ]
    },
    {
      "cell_type": "code",
      "execution_count": 38,
      "metadata": {
        "colab": {
          "base_uri": "https://localhost:8080/"
        },
        "id": "yfOIQ901dznL",
        "outputId": "000df48c-83d6-4e67-f10a-30fd6b6fe425"
      },
      "outputs": [
        {
          "output_type": "execute_result",
          "data": {
            "text/plain": [
              "83"
            ]
          },
          "metadata": {},
          "execution_count": 38
        }
      ],
      "source": [
        "# Build a CSV file to store data\n",
        "csv_file = open('SkinnyTaste.csv', 'w')\n",
        "csv_writer = csv.writer(csv_file)\n",
        "csv_writer.writerow(['Name' , 'Address' , 'Distance (miles from centre)', 'Price (USD)', 'Score', 'Rating', 'Summary', 'Images' ])"
      ]
    },
    {
      "cell_type": "code",
      "execution_count": 39,
      "metadata": {
        "id": "49cK_t9dfxkb"
      },
      "outputs": [],
      "source": [
        "# Get the target data from the website\n",
        "\n",
        "offset = 0\n",
        "\n",
        "for page in range (0,3):\n",
        "  url = 'https://www.booking.com/searchresults.en-gb.html?ss=Paris&ssne=Paris&ssne_untouched=Paris&label=gen173nr-1FCAEoggI46AdIM1gEaEiIAQGYAQm4AQfIAQzYAQHoAQH4AQuIAgGoAgO4AvuevpkGwAIB0gIkYTQzODdhNDItYThkNy00MDVmLWExYTctNDA0NDMxYWU4ZmYz2AIG4AIB&sid=c5e52c4c73e6d4e626d6c8a8883ff0e5&aid=304142&lang=en-gb&sb=1&src_elem=sb&src=searchresults&dest_id=-1456928&dest_type=city&checkin=2022-10-30&checkout=2022-10-31&group_adults=1&no_rooms=1&group_children=0&sb_travel_purpose=leisure&offset=' + str(offset)\n",
        "  offset +=25\n",
        "  response=requests.get(url,headers=headers).text\n",
        "\n",
        "\n",
        "  soup=BeautifulSoup(response,'lxml')\n",
        "\n",
        "\n",
        "  for Post in soup.find_all('div', class_= 'd20f4628d0'):\n",
        "    name = Post.find('div', class_ = 'fcab3ed991 a23c043802').get_text()\n",
        "\n",
        "    distance = Post.find('span',{'data-testid': 'distance'}).text.split()[0]\n",
        "\n",
        "    price = Post.find('span', class_ = 'fcab3ed991 bd73d13072').get_text().split('$')[1]\n",
        "  \n",
        "    rating = 0\n",
        "    for rate in Post.find_all('span', class_ = 'b6dc9a9e69 adc357e4f1 fe621d6382'):\n",
        "      rating += 1 \n",
        "\n",
        "    score = Post.find('div', class_ = 'b5cd09854e d10a6220b4').get_text()\n",
        "\n",
        "    link = Post.find('a', class_ = 'e13098a59f')['href']\n",
        "\n",
        "    secondary_response=requests.get(link).text\n",
        "\n",
        "    secondary_soup=BeautifulSoup(secondary_response,'lxml')\n",
        "    pics_link = []\n",
        "    summary = []\n",
        "\n",
        "    div_req = secondary_soup.find('div', class_ = 'clearfix bh-photo-grid bh-photo-grid--space-down fix-score-hover-opacity')\n",
        "\n",
        "    try:\n",
        "      for pic_link in div_req.find_all('img', class_ = \"hide\"):\n",
        "        pics_link.append(pic_link['src'])\n",
        "    except:\n",
        "      pics_link.append(None)\n",
        "    div_summary = secondary_soup.find('div', {\"id\": \"property_description_content\"})\n",
        "\n",
        "    for sum in div_summary.find_all('p'):\n",
        "      summary.append(sum.text)\n",
        "\n",
        "    total_summary = '\\n'.join(summary)\n",
        "\n",
        "    address = secondary_soup.find('span', class_ = ' hp_address_subtitle js-hp_address_subtitle jq_tooltip ').get_text()\n",
        "\n",
        "    \n",
        "    # Write to CSV file\n",
        "    csv_writer.writerow([name, address, distance, price , score , rating , total_summary, pics_link])\n",
        "\n",
        "\n"
      ]
    },
    {
      "cell_type": "code",
      "execution_count": null,
      "metadata": {
        "id": "pOUq18MoZcbq"
      },
      "outputs": [],
      "source": [
        "!pip install selenium\n",
        "!apt-get update \n",
        "!apt install chromium-chromedriver\n",
        "\n",
        "from selenium import webdriver\n",
        "from selenium.webdriver.common.by import By\n",
        "from selenium.webdriver.support.ui import WebDriverWait\n",
        "from selenium.webdriver.support import expected_conditions as EC\n",
        "\n",
        "from selenium import webdriver\n",
        "chrome_options = webdriver.ChromeOptions()\n",
        "chrome_options.add_argument('--headless')\n",
        "chrome_options.add_argument('--no-sandbox')\n",
        "chrome_options.add_argument('--disable-dev-shm-usage')\n",
        "chrome_options.add_argument('--disable-blink-features=AutomationControlled')\n",
        "driver = webdriver.Chrome('chromedriver',chrome_options=chrome_options)"
      ]
    },
    {
      "cell_type": "code",
      "execution_count": null,
      "metadata": {
        "id": "W1SAZuXRtr_v"
      },
      "outputs": [],
      "source": [
        "import time \n",
        "for page in range(1,4):\n",
        "  gg = driver.get('https://www.zenhotels.com/hotel/france/paris/?q=2734&dates=30.10.2022-31.10.2022&guests=1&page='+ str(page) +'&price=one&type_group=hotel&sid=ae40a212-a031-4d27-b1b0-04be700608b0')\n",
        "  time.sleep(5)\n",
        "\n",
        "  page = driver.page_source\n",
        "  zen_soup = BeautifulSoup(page, features='html.parser')\n",
        "  # print(zen_soup.prettify())\n",
        "\n",
        "  for Post in zen_soup.find_all('div', class_= 'hotel-wrapper'):\n",
        "    zen_name = Post.find('a', class_ = 'zen-hotelcard-name-link'). text\n",
        "\n",
        "    \n",
        "    try: \n",
        "      distance = Post.find('span', class_ = 'zen-hotelcard-location-value').get_text().split('&')[0]\n",
        "      if (distance.split()[1] == 'km'):\n",
        "        zen_distance = float (distance.split()[0])\n",
        "      else:\n",
        "        zen_distance = \"{:.1f}\".format(((float (distance.split()[0])) / 1000))\n",
        "    except:\n",
        "      zen_distance = None\n",
        "\n",
        "    zen_price = Post.find('div', class_ = 'zen-hotelcard-rate-price-value').find_next('span').find_next('span').text.split('$')[0]\n",
        "\n",
        "    zen_rating = 0\n",
        "    for rate in Post.find_all('div', class_ = 'zen-ui-stars-star'):\n",
        "      zen_rating += 1 \n",
        "\n",
        "\n",
        "    zen_link = Post.find('a', class_ = 'zen-hotelcard-name-link')['href']\n",
        "\n",
        "    zen_url_link = 'https://www.zenhotels.com' + zen_link\n",
        "    gg = driver.get(zen_url_link)\n",
        "\n",
        "    second_page = driver.page_source\n",
        "    second_zen_soup = BeautifulSoup(second_page, features='html.parser')\n",
        "\n",
        "    try: \n",
        "      zen_score = second_zen_soup.find('span', class_ = 'zen-roomspage-reviews-rating-value').get_text()\n",
        "    except:\n",
        "      zen_score = None\n",
        "\n",
        "    zen_pics_link = []\n",
        "    try:\n",
        "      for image in second_zen_soup.find_all('img', class_ = 'zen-tablet-gallery-thumb-img'):\n",
        "        zen_pics_link.append(image['src'])\n",
        "    except:\n",
        "      zen_pics_link.append(None)\n",
        "\n",
        "    try: \n",
        "      zen_address = second_zen_soup.find('span', class_ = 'zen-roomspage-address').get_text()\n",
        "    except:\n",
        "      zen_address = None\n",
        "\n",
        "    try: \n",
        "      zen_summary = second_zen_soup.find('div', class_ = 'zen-roomspage-about-item zen-roomspage-about-item-about').get_text()\n",
        "    except:\n",
        "      zen_summary = None\n",
        "     \n",
        "    \n",
        "    csv_writer.writerow([zen_name, zen_address, zen_distance, zen_price , zen_score , zen_rating , zen_summary, zen_pics_link])\n",
        "\n",
        "    \n"
      ]
    },
    {
      "cell_type": "code",
      "source": [
        "import time\n",
        "\n",
        "offset = 0\n",
        "\n",
        "for page in range (0,3):\n",
        "  url = 'https://book.cheapoair.com/searchresults.en-us.html?label=desktop-1461715-click&aid=1461715&ss=Paris&checkin_month=10&checkin_monthday=30&checkin_year=2022&checkout_month=10&checkout_monthday=31&checkout_year=2022&group_adults=1&group_children=0&no_rooms=1&offset=' + str(offset)\n",
        "  offset +=25\n",
        "  response=requests.get(url,headers=headers).text\n",
        "\n",
        "\n",
        "  soup=BeautifulSoup(response,'lxml')\n",
        "\n",
        "\n",
        "  for Post in soup.find_all('div', class_= 'd20f4628d0'):\n",
        "    name = Post.find('div', class_ = 'fcab3ed991 a23c043802').get_text()\n",
        "\n",
        "    distance = Post.find('span',{'data-testid': 'distance'}).text.split()[0]\n",
        "\n",
        "    price = Post.find('span', class_ = 'fcab3ed991 bd73d13072').get_text().split('$')[1]\n",
        "  \n",
        "    rating = 0\n",
        "    for rate in Post.find_all('span', class_ = 'b6dc9a9e69 adc357e4f1 fe621d6382'):\n",
        "      rating += 1 \n",
        "\n",
        "    score = Post.find('div', class_ = 'b5cd09854e d10a6220b4').get_text()\n",
        "\n",
        "    link = Post.find('a', class_ = 'e13098a59f')['href']\n",
        "\n",
        "    secondary_response=requests.get(link).text\n",
        "\n",
        "    secondary_soup=BeautifulSoup(secondary_response,'lxml')\n",
        "    pics_link = []\n",
        "    summary = []\n",
        "\n",
        "    div_req = secondary_soup.find('div', class_ = 'clearfix bh-photo-grid bh-photo-grid--space-down fix-score-hover-opacity')\n",
        "\n",
        "    try:\n",
        "      for pic_link in div_req.find_all('img', class_ = \"hide\"):\n",
        "        pics_link.append(pic_link['src'])\n",
        "    except:\n",
        "      pics_link.append(None)\n",
        "    div_summary = secondary_soup.find('div', {\"id\": \"property_description_content\"})\n",
        "\n",
        "    for sum in div_summary.find_all('p'):\n",
        "      summary.append(sum.text)\n",
        "\n",
        "    total_summary = '\\n'.join(summary)\n",
        "\n",
        "    address = secondary_soup.find('span', class_ = ' hp_address_subtitle js-hp_address_subtitle jq_tooltip ').get_text()\n",
        "\n",
        "    # Write to CSV file\n",
        "    csv_writer.writerow([name, address, distance, price , score , rating , total_summary, pics_link])\n",
        "\n",
        "csv_file.close()\n"
      ],
      "metadata": {
        "id": "kHoEThxxHkPL"
      },
      "execution_count": 41,
      "outputs": []
    },
    {
      "cell_type": "code",
      "source": [
        "from operator import itemgetter\n",
        "file_name = \"SkinnyTaste.csv\"\n",
        "file_name_output = \"SkinnyTasteWithoutDup.csv\"\n",
        "\n",
        "df = pd.read_csv(file_name, sep=\",\")\n",
        "\n",
        "# Notes:\n",
        "# - the `subset=None` means that every column is used \n",
        "#    to determine if two rows are different; to change that specify\n",
        "#    the columns as an array\n",
        "# - the `inplace=True` means that the data structure is changed and\n",
        "#   the duplicate rows are gone  \n",
        "df.drop_duplicates(subset=None, inplace=True)\n",
        "\n",
        "# Write the results to a different file\n",
        "df.to_csv(file_name_output, index=False) \n",
        "\n",
        "df = pd.read_csv(file_name_output, sep=\",\")\n",
        "\n",
        "df.groupby(['Rating'])['Rating'].count().plot(legend=True)\n",
        "plt.ylabel('Numbers')\n",
        "plt.title('The number of each Ratings')\n"
      ],
      "metadata": {
        "colab": {
          "base_uri": "https://localhost:8080/",
          "height": 312
        },
        "id": "mYPFTWX7d8T9",
        "outputId": "791fac6f-a16a-4291-e3f3-4ca9f77e1586"
      },
      "execution_count": 97,
      "outputs": [
        {
          "output_type": "execute_result",
          "data": {
            "text/plain": [
              "Text(0.5, 1.0, 'The number of each Ratings')"
            ]
          },
          "metadata": {},
          "execution_count": 97
        },
        {
          "output_type": "display_data",
          "data": {
            "text/plain": [
              "<Figure size 432x288 with 1 Axes>"
            ],
            "image/png": "[encoded data removed]"
          },
          "metadata": {
            "needs_background": "light"
          }
        }
      ]
    },
    {
      "cell_type": "code",
      "source": [
        "df.groupby(['Score'])['Score'].count().plot(legend=True)\n",
        "plt.ylabel('Numbers')\n",
        "plt.title('The Number of each Scores')\n"
      ],
      "metadata": {
        "colab": {
          "base_uri": "https://localhost:8080/",
          "height": 312
        },
        "id": "ICHC6q0rhFBZ",
        "outputId": "86dd688e-38fe-412a-e219-44b9dc6ddf4c"
      },
      "execution_count": 98,
      "outputs": [
        {
          "output_type": "execute_result",
          "data": {
            "text/plain": [
              "Text(0.5, 1.0, 'The Number of each Scores')"
            ]
          },
          "metadata": {},
          "execution_count": 98
        },
        {
          "output_type": "display_data",
          "data": {
            "text/plain": [
              "<Figure size 432x288 with 1 Axes>"
            ],
            "image/png": "[encoded data removed]"
          },
          "metadata": {
            "needs_background": "light"
          }
        }
      ]
    },
    {
      "cell_type": "code",
      "source": [
        "x = df['Rating']\n",
        "y = df['Price (USD)']\n",
        "\n",
        "plt.scatter(x, y)\n",
        "plt.xlabel('Rating')\n",
        "plt.ylabel('Prices')\n",
        "plt.title('Ratings vs Prices')\n",
        "plt.show()"
      ],
      "metadata": {
        "colab": {
          "base_uri": "https://localhost:8080/",
          "height": 295
        },
        "id": "tlRD4-iYk5nz",
        "outputId": "e1ed4d4a-06ac-463a-de6c-b8534d9b83ff"
      },
      "execution_count": 99,
      "outputs": [
        {
          "output_type": "display_data",
          "data": {
            "text/plain": [
              "<Figure size 432x288 with 1 Axes>"
            ],
            "image/png": "[encoded data removed]"
          },
          "metadata": {
            "needs_background": "light"
          }
        }
      ]
    },
    {
      "cell_type": "code",
      "source": [
        "import sklearn\n",
        "import numpy as np\n",
        "\n",
        "df = df.replace('', np.nan)\n",
        "\n",
        "df = df.ffill().bfill()\n",
        "\n",
        "x = df['Score']\n",
        "y = df['Price (USD)']\n",
        "\n",
        "correlation = y.corr(x)\n",
        "print(correlation)\n",
        " \n",
        "# plot the data\n",
        "plt.scatter(x, y)\n",
        " \n",
        "# fits the best fitting line to the data\n",
        "plt.plot(np.unique(x),\n",
        "         np.poly1d(np.polyfit(x, y, 1))\n",
        "         (np.unique(x)), color='red')\n",
        " \n",
        "# Labelling axes\n",
        "plt.xlabel('Score')\n",
        "plt.ylabel('Price')\n",
        "plt.title('Correlation of Price and Score')"
      ],
      "metadata": {
        "colab": {
          "base_uri": "https://localhost:8080/",
          "height": 330
        },
        "id": "WDKyHeZ2tDc1",
        "outputId": "229df449-0b2f-43b8-e3a9-02e22229abd2"
      },
      "execution_count": 103,
      "outputs": [
        {
          "output_type": "stream",
          "name": "stdout",
          "text": [
            "0.531527291681025\n"
          ]
        },
        {
          "output_type": "execute_result",
          "data": {
            "text/plain": [
              "Text(0.5, 1.0, 'Correlation of Price and Score')"
            ]
          },
          "metadata": {},
          "execution_count": 103
        },
        {
          "output_type": "display_data",
          "data": {
            "text/plain": [
              "<Figure size 432x288 with 1 Axes>"
            ],
            "image/png": "[encoded data removed]"
          },
          "metadata": {
            "needs_background": "light"
          }
        }
      ]
    },
    {
      "cell_type": "code",
      "source": [
        "bins= [0, 50, 100, 150 , 200, 250, 300 , 400]\n",
        "plt.hist(price, bins=bins, edgecolor=\"k\")\n",
        "plt.xticks(bins)\n",
        "plt.xlabel(\"Prices\")\n",
        "plt.ylabel(\"Numbers\")\n",
        "plt.title('Range of prices')\n",
        "plt.show()"
      ],
      "metadata": {
        "colab": {
          "base_uri": "https://localhost:8080/",
          "height": 295
        },
        "id": "HyXVAVIFv0Xp",
        "outputId": "d17563b5-331d-489f-ef22-de6b0baa9e4a"
      },
      "execution_count": 101,
      "outputs": [
        {
          "output_type": "display_data",
          "data": {
            "text/plain": [
              "<Figure size 432x288 with 1 Axes>"
            ],
            "image/png": "[encoded data removed]"
          },
          "metadata": {
            "needs_background": "light"
          }
        }
      ]
    },
    {
      "cell_type": "code",
      "source": [
        "\n",
        "# Get user promts\n",
        "print('                    Welcome to BookingInfo')\n",
        "print('This platform is meant to give you the best selection of Hotel options')\n",
        "print('                   all based on YOUR needs!')\n",
        "print()\n",
        "min = input('What is the minimum price you are looking for? (Based on USD) ')\n",
        "max = input('What is the maximum price you are looking for? (Based on USD) ')\n",
        "min_point = input('What is the minimum review score you are looking for?(Out of 10) ')\n",
        "min_rating_point = input('What is the minimum rating you are looking for? (Out of 5) ')\n",
        "max_distance = input('What is the maximum distance you are looking for? (Based on miles) ')\n",
        "\n",
        "print()\n",
        "print('      You want a hotel that has a price range of [' + min + ', ' + str(max) + '] USD')\n",
        "print('             and for its minimum review score to be  [' + str(min_point) + '/10]')\n",
        "print('             and for its minimum rating to be  [' + str(min_rating_point) + '/5]')\n",
        "print('             and for its maximum distance to be  [' + str(max_distance) + ' miles]')\n",
        "print('          Here is our Hotels that fit your choices')\n",
        "print()\n",
        "\n",
        "\n",
        "#read csv, and split on \",\" the line\n",
        "csv_file = csv.reader(open('SkinnyTasteWithoutDup.csv', \"r\"), delimiter=\",\")\n",
        "first_row = next(csv_file)\n",
        "\n",
        "#loop through the csv list\n",
        "hotels = []\n",
        "for row in csv_file:\n",
        "    #if current rows 2nd value is equal to input, print that row\n",
        "    # if int(row[3]) >= int(min) and int(row[3]) <= int(max) and float(row[4]) >= float(min_point) and int(row[5]) >= int(min_rating_point) and float(row[2])<= float(max_distance):\n",
        "    if row[3] >= min and row[3] <= max and row[4] >= min_point and row[5] >= min_rating_point and row[2] <= max_distance  :\n",
        "      hotels.append(row)\n",
        "\n",
        "sorted_hotels = sorted(hotels, key = itemgetter(2))\n",
        "\n",
        "print('================================\\n')\n",
        "for i in range(len(sorted_hotels)-1): \n",
        "  print( sorted_hotels[i][0]+ ',\\n' )\n",
        "print('================================\\n')\n",
        "\n",
        "name = input('Please put the name of the Hotel to get more information: ')\n",
        "\n",
        "for j in range(len(sorted_hotels)-1):\n",
        "  if (name.lower() == sorted_hotels[j][0].lower()):\n",
        "    print('==================================================================================================================================\\n')\n",
        "    print('Name: ' + sorted_hotels[j][0] + ',\\n' + 'Address: ' + sorted_hotels[j][1]  + 'Distance from the center: ' + sorted_hotels[j][2] + ' miles,\\n' + 'Price: ' + sorted_hotels[j][3] + ' USD,\\n' + 'Review Score: ' + sorted_hotels[j][4] + '/10,\\n' + 'Star Rating: ' + sorted_hotels[j][5] + '/5,\\n' + 'Summary: ' + sorted_hotels[i][6] + ',\\n' + 'Images: ' + sorted_hotels[j][7] + '\\n')\n",
        "    print('==================================================================================================================================\\n')\n",
        "\n"
      ],
      "metadata": {
        "colab": {
          "base_uri": "https://localhost:8080/"
        },
        "id": "Z8Sig-eg-HRu",
        "outputId": "5e11ae11-acb7-4892-d5a1-6777a2ef9d22"
      },
      "execution_count": 102,
      "outputs": [
        {
          "output_type": "stream",
          "name": "stdout",
          "text": [
            "                    Welcome to BookingInfo\n",
            "This platform is meant to give you the best selection of Hotel options\n",
            "                   all based on YOUR needs!\n",
            "\n",
            "What is the minimum price you are looking for? (Based on USD) 100\n",
            "What is the maximum price you are looking for? (Based on USD) 200\n",
            "What is the minimum review score you are looking for?(Out of 10) 6\n",
            "What is the minimum rating you are looking for? (Out of 5) 3\n",
            "What is the maximum distance you are looking for? (Based on miles) 2\n",
            "\n",
            "      You want a hotel that has a price range of [100, 200] USD\n",
            "             and for its minimum review score to be  [6/10]\n",
            "             and for its minimum rating to be  [3/5]\n",
            "             and for its maximum distance to be  [2 miles]\n",
            "          Here is our Hotels that fit your choices\n",
            "\n",
            "================================\n",
            "\n",
            "France Louvre,\n",
            "\n",
            "Hôtel Elixir,\n",
            "\n",
            "Hôtel du Levant,\n",
            "\n",
            "Hôtel Albe Saint Michel,\n",
            "\n",
            "Hotel Saint Honore,\n",
            "\n",
            "\n",
            "Hôtel Arc Porte D'Orleans\n",
            ",\n",
            "\n",
            "\n",
            "Aparthotel Adagio access Paris Clichy\n",
            ",\n",
            "\n",
            "\n",
            "Grand Hotel Dechampaigne\n",
            ",\n",
            "\n",
            "Hôtel Du Vieux Saule,\n",
            "\n",
            "Hôtel Odyssey by Elegancia,\n",
            "\n",
            "\n",
            "Novotel Paris Est\n",
            ",\n",
            "\n",
            "Little Palace Hotel,\n",
            "\n",
            "Les Jardins Du Luxembourg,\n",
            "\n",
            "Hôtel Baudelaire Opéra,\n",
            "\n",
            "ibis Styles Paris République,\n",
            "\n",
            "Korner Opera,\n",
            "\n",
            "Hôtel des Comédies,\n",
            "\n",
            "Hotel Albe Bastille,\n",
            "\n",
            "Hotel Viator - Gare de Lyon,\n",
            "\n",
            "Hotel Panache,\n",
            "\n",
            "Hôtel du Continent,\n",
            "\n",
            "Hotel Monsieur Helder,\n",
            "\n",
            "Ibis Styles Paris Gare de l'Est Magenta,\n",
            "\n",
            "citizenM Paris Gare de Lyon,\n",
            "\n",
            "Hotel Eugène en Ville,\n",
            "\n",
            "Hôtel Volney Opéra,\n",
            "\n",
            "Hotel Ernest,\n",
            "\n",
            "\n",
            "Appart’City Confort Paris Villejuif\n",
            ",\n",
            "\n",
            "Hotel Vignon,\n",
            "\n",
            "Libertel Gare Du Nord Suede,\n",
            "\n",
            "Libertel Gare Du Nord Suede,\n",
            "\n",
            "Le Rocroy Hotel Paris Gare du Nord,\n",
            "\n",
            "Hôtel Montparnasse Saint Germain,\n",
            "\n",
            "Novotel Paris 20 Belleville,\n",
            "\n",
            "Le Malown,\n",
            "\n",
            "Hôtel Rosalie,\n",
            "\n",
            "\n",
            "Timhotel Paris Gare de Lyon\n",
            ",\n",
            "\n",
            "Hôtel Du Midi Paris Montparnasse,\n",
            "\n",
            "Montparnasse Daguerre,\n",
            "\n",
            "Petit Madeleine Hôtel,\n",
            "\n",
            "================================\n",
            "\n",
            "Please put the name of the Hotel to get more information: Le Malown\n",
            "==================================================================================================================================\n",
            "\n",
            "Name: Le Malown,\n",
            "Address: \n",
            "12 Rue Greffulhe, 8th arr., 75008 Paris, France\n",
            "Distance from the center: 1.6 miles,\n",
            "Price: 146 USD,\n",
            "Review Score: 7.8/10,\n",
            "Star Rating: 3/5,\n",
            "Summary: \n",
            "You're eligible for a Genius discount at Petit Madeleine Hôtel! To save at this property, all you have to do is sign in.\n",
            "Set in the chic 8th district, this elegant hotel is an 8-minute walk to Madeleine Church. Elegant guest rooms have a minibar and free Wi-Fi access, and reception is open 24 hours.\n",
            "Flat-screen satellite TV is provided in each air-conditioned room. Some of the rooms have views of the courtyard and all rooms are individually decorated.\n",
            "A buffet breakfast is served every morning at Petit Madeleine Hôtel. After breakfast, receive tourist information or reserve an airport transfer at the reception.\n",
            "The famous Faubourg Saint-Honoré with its luxury boutiques is just a 5-minute walk away. Miromesnil Metro Station is 400 yards away, providing direct access to the Champs Elysées and Galeries Lafayette. ,\n",
            "Images: ['https://cf.bstatic.com/xdata/images/hotel/max1024x768/18091737.jpg?k=7538358d74b2a8c508ff568f617be9821e336c54513cf4fb59db845f1be288b7&o=&hp=1', 'https://cf.bstatic.com/xdata/images/hotel/max500/57257607.jpg?k=c83653655ca6af81f60c53005e1d540b56f70338a97b5be4d11d3a13bfbfdbf2&o=&hp=1', 'https://cf.bstatic.com/xdata/images/hotel/max500/57257627.jpg?k=149f21c767489d4154c30f26929d4c3b58b802d153c90efa69d469d2b8458694&o=&hp=1', 'https://cf.bstatic.com/xdata/images/hotel/max300/18091744.jpg?k=81ad522df82203d334cde6182f1fb90ded6a9946567cd9595dc53e91a1425eac&o=&hp=1', 'https://cf.bstatic.com/xdata/images/hotel/max300/18091738.jpg?k=bf83ce776340220190f7cd6593030115595e157f9bb0ba53c96254bdf4038e7c&o=&hp=1', 'https://cf.bstatic.com/xdata/images/hotel/max300/27493602.jpg?k=1a92c9d96aa89b7cee61e690d91eabdc3ec94681aacb3f21dd3a7ccc239bed77&o=&hp=1', 'https://cf.bstatic.com/xdata/images/hotel/max300/18091745.jpg?k=9247d20f8a3937029c3da4ff456fa637a1969da2d93075730ccffa8a0e6b2488&o=&hp=1', 'https://cf.bstatic.com/xdata/images/hotel/max300/18091724.jpg?k=c29bd1004ce24c8dcf173e21e6759411b04c03bc00cdab108263fefc8eae90fe&o=&hp=1']\n",
            "\n",
            "==================================================================================================================================\n",
            "\n"
          ]
        }
      ]
    }
  ],
  "metadata": {
    "colab": {
      "collapsed_sections": [],
      "provenance": []
    },
    "kernelspec": {
      "display_name": "Python 3",
      "name": "python3"
    },
    "language_info": {
      "name": "python"
    }
  },
  "nbformat": 4,
  "nbformat_minor": 0
}
